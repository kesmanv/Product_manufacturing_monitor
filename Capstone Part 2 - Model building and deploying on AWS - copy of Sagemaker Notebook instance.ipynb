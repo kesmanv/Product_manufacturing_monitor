{
 "cells": [
  {
   "cell_type": "markdown",
   "metadata": {},
   "source": [
    "## Capstone Project : Near real-time monitoring of a manufacturing production line\n",
    "**Keywords:** <font color='green'>SQL, AWS (S3 bucket, Sagemaker-XGBoost, lambda function, API Gateway), Power BI (Streaming dashboard, API)</font>   \n",
    "\n",
    "**Background:** The objective of this capstone project was to build and deploy a model to monitor in near real-time a customer-critical attribute of a product being manufactured at one of my company's facilities. For a variety of reasons, such limited resources and testing capabilities, this critical attribute can only be measured every 12 hours. Finished products are manufactured at 400-600 per minute rate. Therefore, a failure to meet this customer-critical attribute has the consequence of having to put on hold (often scrap) 12 hours of production. During these 12-hour periods several quality and production checks are performed at each stage of the product manufacturing process. The built model uses the data from these intermediary checks to predict the customer-critical attribute during the 12-hour intervals where this attribute is not measured directly. If a failure is predicted, a notification is sent to the appropriate personnel to take immediate action. \n",
    "#### Project structure:\n",
    "- **Part I: ETL** The data used for training, validation and testing is hosted on two SQL servers. One SQL server host product quality data and the other SQL server host the machine state data. The first step is to extract the data from the SQL Servers, transform it and load it to an AWS S3 bucket. \n",
    "- **Part II:** \n",
    " - **II.1 Build, Train and Deploy the model** With the data in AWS S3, I used Sagemaker to train and deploy an XGBoost model. Deploying the model creates an endpoint that can be accessed for predictions. \n",
    " - **II.2 Lambda function & Gateway API** I created a lambda function & GateWay API to be able to access the model for predictions. The API allows me to the send the data for prediction as a POST request for low-latency response. This is a cost effective solution since I am only charged when I send the request to the API. \n",
    "- **Part III: Predict near real-time and stream to PowerBI dashboard** With the model deployed and the API in service, I scheduled a taks on one of our on-premises servers to send the latest intermediary check to the model and get a prediction of the customer-critical attribute. This prediction is then pass to the PowerBI dashboard (also as POST request). The PowerBI Streaming dashboard visualizes the predictions in real-time.   \n",
    "\n",
    "### <font color='brown'>Part II:</font> Model training and deploying\n",
    "* Python script to query the SQL databases with the data for prediction. "
   ]
  },
  {
   "cell_type": "code",
   "execution_count": 47,
   "metadata": {},
   "outputs": [],
   "source": [
    "import pandas as pd\n",
    "from sklearn.model_selection import train_test_split"
   ]
  },
  {
   "cell_type": "code",
   "execution_count": 48,
   "metadata": {},
   "outputs": [],
   "source": [
    "df = pd.read_csv('axial_for_training.csv').drop('Unnamed: 0', axis=1)"
   ]
  },
  {
   "cell_type": "code",
   "execution_count": 49,
   "metadata": {},
   "outputs": [
    {
     "data": {
      "text/plain": [
       "Index(['CREW_A', 'LINE_A', 'MACHINE_A', 'STATION_A', 'OPER_A', 'MS_NUMBER_A',\n",
       "       'FBA__I', 'FBH__1', 'FBH__2', 'FBH__3',\n",
       "       ...\n",
       "       'FBL9RNG_I', 'FBL10RNG_I', 'FBL11RNG_I', 'FBL12RNG_I', 'FBL13RNG_I',\n",
       "       'FBL14RNG_I', 'FBL15RNG_I', 'FBL16RNG_I', 'FBL17RNG_I', 'FBL18RNG_I'],\n",
       "      dtype='object', length=122)"
      ]
     },
     "execution_count": 49,
     "metadata": {},
     "output_type": "execute_result"
    }
   ],
   "source": [
    "df.columns"
   ]
  },
  {
   "cell_type": "code",
   "execution_count": 50,
   "metadata": {},
   "outputs": [],
   "source": [
    "df_f = df.drop('FBAXIAL_I', axis=1)\n",
    "df_t = df.FBAXIAL_I\n",
    "df = pd.concat([df_t, df_f], axis=1)"
   ]
  },
  {
   "cell_type": "code",
   "execution_count": 51,
   "metadata": {},
   "outputs": [
    {
     "data": {
      "text/plain": [
       "(6991, 1513)"
      ]
     },
     "execution_count": 51,
     "metadata": {},
     "output_type": "execute_result"
    }
   ],
   "source": [
    "data = pd.get_dummies(df)\n",
    "data.shape"
   ]
  },
  {
   "cell_type": "code",
   "execution_count": 52,
   "metadata": {},
   "outputs": [],
   "source": [
    "train0, test = train_test_split(data, test_size=.15)\n",
    "train, validation = train_test_split(train0, test_size=.15)"
   ]
  },
  {
   "cell_type": "code",
   "execution_count": 53,
   "metadata": {},
   "outputs": [],
   "source": [
    "train.to_csv('train.csv', index=False)\n",
    "test.to_csv('test.csv', index=False)\n",
    "validation.to_csv('validation.csv', index=False)"
   ]
  },
  {
   "cell_type": "code",
   "execution_count": 54,
   "metadata": {},
   "outputs": [
    {
     "name": "stdout",
     "output_type": "stream",
     "text": [
      "CPU times: user 11 µs, sys: 0 ns, total: 11 µs\n",
      "Wall time: 15.5 µs\n"
     ]
    }
   ],
   "source": [
    "%%time\n",
    "\n",
    "import os\n",
    "import boto3\n",
    "import re\n",
    "import sagemaker"
   ]
  },
  {
   "cell_type": "code",
   "execution_count": 55,
   "metadata": {},
   "outputs": [],
   "source": [
    "bucket = 'axial-load-s3-sagemaker'\n",
    "training_key = 'axialtrain/train.csv'\n",
    "validation_key = 'axialtrain/validation.csv'\n",
    "test_key = 'axialtrain/test.csv'\n",
    "\n",
    "s3_model_output_location = r's3://{0}/axialtrain/model'.format(bucket)\n",
    "s3_training_file_location = r's3://{0}/{1}'.format(bucket, training_key)\n",
    "s3_validation_file_location = r's3://{0}/{1}'.format(bucket, validation_key)\n",
    "s3_test_file_location = r's3://{0}/{1}'.format(bucket, test_key)"
   ]
  },
  {
   "cell_type": "code",
   "execution_count": 56,
   "metadata": {},
   "outputs": [
    {
     "name": "stdout",
     "output_type": "stream",
     "text": [
      "s3://axial-load-s3-sagemaker/axialtrain/model\n",
      "s3://axial-load-s3-sagemaker/axialtrain/train.csv\n",
      "s3://axial-load-s3-sagemaker/axialtrain/validation.csv\n",
      "s3://axial-load-s3-sagemaker/axialtrain/test.csv\n"
     ]
    }
   ],
   "source": [
    "print(s3_model_output_location)\n",
    "print(s3_training_file_location)\n",
    "print(s3_validation_file_location)\n",
    "print(s3_test_file_location)"
   ]
  },
  {
   "cell_type": "code",
   "execution_count": 57,
   "metadata": {},
   "outputs": [],
   "source": [
    "def write_to_s3(filename, bucket, key):\n",
    "    with open(filename, 'rb') as f:\n",
    "        return boto3.Session().resource('s3').Bucket(bucket).Object(key).upload_fileobj(f)    "
   ]
  },
  {
   "cell_type": "code",
   "execution_count": 59,
   "metadata": {},
   "outputs": [],
   "source": [
    "write_to_s3('train.csv', bucket, training_key)\n",
    "write_to_s3('validation.csv', bucket, validation_key)\n",
    "write_to_s3('test.csv', bucket, test_key)"
   ]
  },
  {
   "cell_type": "code",
   "execution_count": 60,
   "metadata": {},
   "outputs": [
    {
     "name": "stderr",
     "output_type": "stream",
     "text": [
      "'get_image_uri' method will be deprecated in favor of 'ImageURIProvider' class in SageMaker Python SDK v2.\n"
     ]
    }
   ],
   "source": [
    "from sagemaker.amazon.amazon_estimator import get_image_uri\n",
    "container = get_image_uri(boto3.Session().region_name, 'xgboost', '1.0-1')"
   ]
  },
  {
   "cell_type": "code",
   "execution_count": 61,
   "metadata": {},
   "outputs": [
    {
     "name": "stdout",
     "output_type": "stream",
     "text": [
      "arn:aws:iam::157248718313:role/service-role/AmazonSageMaker-ExecutionRole-20200728T214764\n"
     ]
    }
   ],
   "source": [
    "role = sagemaker.get_execution_role()\n",
    "print(role)"
   ]
  },
  {
   "cell_type": "code",
   "execution_count": 62,
   "metadata": {},
   "outputs": [],
   "source": [
    "sess = sagemaker.Session()"
   ]
  },
  {
   "cell_type": "code",
   "execution_count": 63,
   "metadata": {},
   "outputs": [
    {
     "name": "stderr",
     "output_type": "stream",
     "text": [
      "Parameter image_name will be renamed to image_uri in SageMaker Python SDK v2.\n"
     ]
    }
   ],
   "source": [
    "estimator = sagemaker.estimator.Estimator(container,\n",
    "                                         role,\n",
    "                                         train_instance_count=1,\n",
    "                                         train_instance_type='ml.m4.xlarge',\n",
    "                                         output_path=s3_model_output_location, \n",
    "                                         sagemaker_session=sess,\n",
    "                                         base_job_name='xgboost-axial-load-v1')"
   ]
  },
  {
   "cell_type": "code",
   "execution_count": 64,
   "metadata": {},
   "outputs": [],
   "source": [
    "estimator.set_hyperparameters(max_depth=5, objective=\"reg:linear\", eta=0.1, subsample=0.7, num_round=150)"
   ]
  },
  {
   "cell_type": "code",
   "execution_count": 65,
   "metadata": {},
   "outputs": [
    {
     "data": {
      "text/plain": [
       "{'max_depth': 5,\n",
       " 'objective': 'reg:linear',\n",
       " 'eta': 0.1,\n",
       " 'subsample': 0.7,\n",
       " 'num_round': 150}"
      ]
     },
     "execution_count": 65,
     "metadata": {},
     "output_type": "execute_result"
    }
   ],
   "source": [
    "estimator.hyperparameters()"
   ]
  },
  {
   "cell_type": "code",
   "execution_count": 66,
   "metadata": {},
   "outputs": [
    {
     "name": "stderr",
     "output_type": "stream",
     "text": [
      "'s3_input' class will be renamed to 'TrainingInput' in SageMaker Python SDK v2.\n",
      "'s3_input' class will be renamed to 'TrainingInput' in SageMaker Python SDK v2.\n"
     ]
    }
   ],
   "source": [
    "training_input_config = sagemaker.session.s3_input(s3_data=s3_training_file_location, content_type='csv')\n",
    "validation_input_config = sagemaker.session.s3_input(s3_data=s3_validation_file_location, content_type='csv')"
   ]
  },
  {
   "cell_type": "code",
   "execution_count": 67,
   "metadata": {},
   "outputs": [
    {
     "name": "stdout",
     "output_type": "stream",
     "text": [
      "{'DataSource': {'S3DataSource': {'S3DataType': 'S3Prefix', 'S3Uri': 's3://axial-load-s3-sagemaker/axialtrain/train.csv', 'S3DataDistributionType': 'FullyReplicated'}}, 'ContentType': 'csv'}\n",
      "{'DataSource': {'S3DataSource': {'S3DataType': 'S3Prefix', 'S3Uri': 's3://axial-load-s3-sagemaker/axialtrain/validation.csv', 'S3DataDistributionType': 'FullyReplicated'}}, 'ContentType': 'csv'}\n"
     ]
    }
   ],
   "source": [
    "print(training_input_config.config)\n",
    "print(validation_input_config.config)"
   ]
  },
  {
   "cell_type": "code",
   "execution_count": 68,
   "metadata": {},
   "outputs": [
    {
     "name": "stdout",
     "output_type": "stream",
     "text": [
      "2020-07-29 16:47:46 Starting - Starting the training job...\n",
      "2020-07-29 16:47:48 Starting - Launching requested ML instances......\n",
      "2020-07-29 16:48:52 Starting - Preparing the instances for training...\n",
      "2020-07-29 16:49:45 Downloading - Downloading input data...\n",
      "2020-07-29 16:50:10 Training - Downloading the training image...\n",
      "2020-07-29 16:50:41 Training - Training image download completed. Training in progress...\u001b[34mINFO:sagemaker-containers:Imported framework sagemaker_xgboost_container.training\u001b[0m\n",
      "\u001b[34mINFO:sagemaker-containers:Failed to parse hyperparameter objective value reg:linear to Json.\u001b[0m\n",
      "\u001b[34mReturning the value itself\u001b[0m\n",
      "\u001b[34mINFO:sagemaker-containers:No GPUs detected (normal if no gpus installed)\u001b[0m\n",
      "\u001b[34mINFO:sagemaker_xgboost_container.training:Running XGBoost Sagemaker in algorithm mode\u001b[0m\n",
      "\u001b[34mINFO:root:Determined delimiter of CSV input is ','\u001b[0m\n",
      "\u001b[34mINFO:root:Determined delimiter of CSV input is ','\u001b[0m\n",
      "\u001b[34mINFO:root:Determined delimiter of CSV input is ','\u001b[0m\n",
      "\u001b[34m[16:50:43] 5051x1512 matrix with 7637112 entries loaded from /opt/ml/input/data/train?format=csv&label_column=0&delimiter=,\u001b[0m\n",
      "\u001b[34mINFO:root:Determined delimiter of CSV input is ','\u001b[0m\n",
      "\u001b[34m[16:50:43] 893x1512 matrix with 1350216 entries loaded from /opt/ml/input/data/validation?format=csv&label_column=0&delimiter=,\u001b[0m\n",
      "\u001b[34mINFO:root:Single node training.\u001b[0m\n",
      "\u001b[34mINFO:root:Train matrix has 5051 rows\u001b[0m\n",
      "\u001b[34mINFO:root:Validation matrix has 893 rows\u001b[0m\n",
      "\u001b[34m[16:50:43] WARNING: /workspace/src/objective/regression_obj.cu:167: reg:linear is now deprecated in favor of reg:squarederror.\u001b[0m\n",
      "\u001b[34m[16:50:43] WARNING: /workspace/src/learner.cc:328: \u001b[0m\n",
      "\u001b[34mParameters: { num_round } might not be used.\n",
      "\n",
      "  This may not be accurate due to some parameters are only used in language bindings but\n",
      "  passed down to XGBoost core.  Or some parameters are not used but slip through this\n",
      "  verification. Please open an issue if you find above cases.\n",
      "\n",
      "\u001b[0m\n",
      "\u001b[34m[0]#011train-rmse:492.76843#011validation-rmse:494.39569\u001b[0m\n",
      "\u001b[34m[1]#011train-rmse:443.61502#011validation-rmse:445.26819\u001b[0m\n",
      "\u001b[34m[2]#011train-rmse:399.36508#011validation-rmse:401.03226\u001b[0m\n",
      "\u001b[34m[3]#011train-rmse:359.55249#011validation-rmse:361.23346\u001b[0m\n",
      "\u001b[34m[4]#011train-rmse:323.72488#011validation-rmse:325.41739\u001b[0m\n",
      "\u001b[34m[5]#011train-rmse:291.47720#011validation-rmse:293.18018\u001b[0m\n",
      "\u001b[34m[6]#011train-rmse:262.44842#011validation-rmse:264.12549\u001b[0m\n",
      "\u001b[34m[7]#011train-rmse:236.34163#011validation-rmse:237.99712\u001b[0m\n",
      "\u001b[34m[8]#011train-rmse:212.89687#011validation-rmse:214.51077\u001b[0m\n",
      "\u001b[34m[9]#011train-rmse:191.77629#011validation-rmse:193.36679\u001b[0m\n",
      "\u001b[34m[10]#011train-rmse:172.80409#011validation-rmse:174.34636\u001b[0m\n",
      "\u001b[34m[11]#011train-rmse:155.71513#011validation-rmse:157.21924\u001b[0m\n",
      "\u001b[34m[12]#011train-rmse:140.35660#011validation-rmse:141.83672\u001b[0m\n",
      "\u001b[34m[13]#011train-rmse:126.57400#011validation-rmse:128.05833\u001b[0m\n",
      "\u001b[34m[14]#011train-rmse:114.17477#011validation-rmse:115.67730\u001b[0m\n",
      "\u001b[34m[15]#011train-rmse:103.04051#011validation-rmse:104.48892\u001b[0m\n",
      "\u001b[34m[16]#011train-rmse:93.03817#011validation-rmse:94.46969\u001b[0m\n",
      "\u001b[34m[17]#011train-rmse:84.09113#011validation-rmse:85.52495\u001b[0m\n",
      "\u001b[34m[18]#011train-rmse:76.03921#011validation-rmse:77.46832\u001b[0m\n",
      "\u001b[34m[19]#011train-rmse:68.81014#011validation-rmse:70.25762\u001b[0m\n",
      "\u001b[34m[20]#011train-rmse:62.35059#011validation-rmse:63.82121\u001b[0m\n",
      "\u001b[34m[21]#011train-rmse:56.54375#011validation-rmse:58.06931\u001b[0m\n",
      "\u001b[34m[22]#011train-rmse:51.35140#011validation-rmse:52.84830\u001b[0m\n",
      "\u001b[34m[23]#011train-rmse:46.73321#011validation-rmse:48.26481\u001b[0m\n",
      "\u001b[34m[24]#011train-rmse:42.58269#011validation-rmse:44.10972\u001b[0m\n",
      "\u001b[34m[25]#011train-rmse:38.91022#011validation-rmse:40.43483\u001b[0m\n",
      "\u001b[34m[26]#011train-rmse:35.65765#011validation-rmse:37.15524\u001b[0m\n",
      "\u001b[34m[27]#011train-rmse:32.78825#011validation-rmse:34.28475\u001b[0m\n",
      "\u001b[34m[28]#011train-rmse:30.27339#011validation-rmse:31.74592\u001b[0m\n",
      "\u001b[34m[29]#011train-rmse:27.99737#011validation-rmse:29.47305\u001b[0m\n",
      "\u001b[34m[30]#011train-rmse:25.98794#011validation-rmse:27.50849\u001b[0m\n",
      "\u001b[34m[31]#011train-rmse:24.20714#011validation-rmse:25.70495\u001b[0m\n",
      "\u001b[34m[32]#011train-rmse:22.69864#011validation-rmse:24.20937\u001b[0m\n",
      "\u001b[34m[33]#011train-rmse:21.38562#011validation-rmse:22.91408\u001b[0m\n",
      "\u001b[34m[34]#011train-rmse:20.17853#011validation-rmse:21.76239\u001b[0m\n",
      "\u001b[34m[35]#011train-rmse:19.15139#011validation-rmse:20.77762\u001b[0m\n",
      "\u001b[34m[36]#011train-rmse:18.27132#011validation-rmse:19.89584\u001b[0m\n",
      "\u001b[34m[37]#011train-rmse:17.54039#011validation-rmse:19.17473\u001b[0m\n",
      "\u001b[34m[38]#011train-rmse:16.83344#011validation-rmse:18.49015\u001b[0m\n",
      "\u001b[34m[39]#011train-rmse:16.31273#011validation-rmse:17.93840\u001b[0m\n",
      "\u001b[34m[40]#011train-rmse:15.83601#011validation-rmse:17.48402\u001b[0m\n",
      "\u001b[34m[41]#011train-rmse:15.41329#011validation-rmse:17.10395\u001b[0m\n",
      "\u001b[34m[42]#011train-rmse:15.00941#011validation-rmse:16.73035\u001b[0m\n",
      "\u001b[34m[43]#011train-rmse:14.69104#011validation-rmse:16.45715\u001b[0m\n",
      "\u001b[34m[44]#011train-rmse:14.40122#011validation-rmse:16.19592\u001b[0m\n",
      "\u001b[34m[45]#011train-rmse:14.18431#011validation-rmse:15.98896\u001b[0m\n",
      "\u001b[34m[46]#011train-rmse:13.95601#011validation-rmse:15.82297\u001b[0m\n",
      "\u001b[34m[47]#011train-rmse:13.77259#011validation-rmse:15.64881\u001b[0m\n",
      "\u001b[34m[48]#011train-rmse:13.57663#011validation-rmse:15.49431\u001b[0m\n",
      "\u001b[34m[49]#011train-rmse:13.45161#011validation-rmse:15.35715\u001b[0m\n",
      "\u001b[34m[50]#011train-rmse:13.33578#011validation-rmse:15.24649\u001b[0m\n",
      "\u001b[34m[51]#011train-rmse:13.24951#011validation-rmse:15.18008\u001b[0m\n",
      "\u001b[34m[52]#011train-rmse:13.14925#011validation-rmse:15.09768\u001b[0m\n",
      "\u001b[34m[53]#011train-rmse:13.02174#011validation-rmse:14.99721\u001b[0m\n",
      "\u001b[34m[54]#011train-rmse:12.87059#011validation-rmse:14.87621\u001b[0m\n",
      "\u001b[34m[55]#011train-rmse:12.78773#011validation-rmse:14.82328\u001b[0m\n",
      "\u001b[34m[56]#011train-rmse:12.68936#011validation-rmse:14.76324\u001b[0m\n",
      "\u001b[34m[57]#011train-rmse:12.60708#011validation-rmse:14.72549\u001b[0m\n",
      "\u001b[34m[58]#011train-rmse:12.51898#011validation-rmse:14.65887\u001b[0m\n",
      "\u001b[34m[59]#011train-rmse:12.40970#011validation-rmse:14.62747\u001b[0m\n",
      "\u001b[34m[60]#011train-rmse:12.31363#011validation-rmse:14.53974\u001b[0m\n",
      "\u001b[34m[61]#011train-rmse:12.24049#011validation-rmse:14.50763\u001b[0m\n",
      "\u001b[34m[62]#011train-rmse:12.15510#011validation-rmse:14.47162\u001b[0m\n",
      "\u001b[34m[63]#011train-rmse:12.07550#011validation-rmse:14.44088\u001b[0m\n",
      "\u001b[34m[64]#011train-rmse:11.97719#011validation-rmse:14.41950\u001b[0m\n",
      "\u001b[34m[65]#011train-rmse:11.90827#011validation-rmse:14.35266\u001b[0m\n",
      "\u001b[34m[66]#011train-rmse:11.83045#011validation-rmse:14.35495\u001b[0m\n",
      "\u001b[34m[67]#011train-rmse:11.77823#011validation-rmse:14.33236\u001b[0m\n",
      "\u001b[34m[68]#011train-rmse:11.69098#011validation-rmse:14.27808\u001b[0m\n",
      "\u001b[34m[69]#011train-rmse:11.64491#011validation-rmse:14.27539\u001b[0m\n",
      "\u001b[34m[70]#011train-rmse:11.58425#011validation-rmse:14.26938\u001b[0m\n",
      "\u001b[34m[71]#011train-rmse:11.52444#011validation-rmse:14.22542\u001b[0m\n",
      "\u001b[34m[72]#011train-rmse:11.45880#011validation-rmse:14.21418\u001b[0m\n",
      "\u001b[34m[73]#011train-rmse:11.41690#011validation-rmse:14.19597\u001b[0m\n",
      "\u001b[34m[74]#011train-rmse:11.31732#011validation-rmse:14.17483\u001b[0m\n",
      "\u001b[34m[75]#011train-rmse:11.26723#011validation-rmse:14.14432\u001b[0m\n",
      "\u001b[34m[76]#011train-rmse:11.20388#011validation-rmse:14.13779\u001b[0m\n",
      "\u001b[34m[77]#011train-rmse:11.16438#011validation-rmse:14.12816\u001b[0m\n",
      "\u001b[34m[78]#011train-rmse:11.09801#011validation-rmse:14.11248\u001b[0m\n",
      "\u001b[34m[79]#011train-rmse:11.02993#011validation-rmse:14.09202\u001b[0m\n",
      "\u001b[34m[80]#011train-rmse:10.97970#011validation-rmse:14.04621\u001b[0m\n",
      "\u001b[34m[81]#011train-rmse:10.91965#011validation-rmse:14.01362\u001b[0m\n",
      "\u001b[34m[82]#011train-rmse:10.89457#011validation-rmse:13.99923\u001b[0m\n",
      "\u001b[34m[83]#011train-rmse:10.79870#011validation-rmse:13.93461\u001b[0m\n",
      "\u001b[34m[84]#011train-rmse:10.71527#011validation-rmse:13.88714\u001b[0m\n",
      "\u001b[34m[85]#011train-rmse:10.62648#011validation-rmse:13.84464\u001b[0m\n",
      "\u001b[34m[86]#011train-rmse:10.58774#011validation-rmse:13.83414\u001b[0m\n",
      "\u001b[34m[87]#011train-rmse:10.50710#011validation-rmse:13.78368\u001b[0m\n",
      "\u001b[34m[88]#011train-rmse:10.47387#011validation-rmse:13.78674\u001b[0m\n",
      "\u001b[34m[89]#011train-rmse:10.43874#011validation-rmse:13.77675\u001b[0m\n",
      "\u001b[34m[90]#011train-rmse:10.37960#011validation-rmse:13.75331\u001b[0m\n",
      "\u001b[34m[91]#011train-rmse:10.32996#011validation-rmse:13.72491\u001b[0m\n",
      "\u001b[34m[92]#011train-rmse:10.31002#011validation-rmse:13.73933\u001b[0m\n",
      "\u001b[34m[93]#011train-rmse:10.24683#011validation-rmse:13.72466\u001b[0m\n",
      "\u001b[34m[94]#011train-rmse:10.20580#011validation-rmse:13.69207\u001b[0m\n",
      "\u001b[34m[95]#011train-rmse:10.16027#011validation-rmse:13.67877\u001b[0m\n",
      "\u001b[34m[96]#011train-rmse:10.10590#011validation-rmse:13.64736\u001b[0m\n",
      "\u001b[34m[97]#011train-rmse:10.09353#011validation-rmse:13.63925\u001b[0m\n",
      "\u001b[34m[98]#011train-rmse:10.03699#011validation-rmse:13.61521\u001b[0m\n",
      "\u001b[34m[99]#011train-rmse:9.98285#011validation-rmse:13.59489\u001b[0m\n",
      "\u001b[34m[100]#011train-rmse:9.91948#011validation-rmse:13.55389\u001b[0m\n",
      "\u001b[34m[101]#011train-rmse:9.86420#011validation-rmse:13.52931\u001b[0m\n",
      "\u001b[34m[102]#011train-rmse:9.80614#011validation-rmse:13.51305\u001b[0m\n",
      "\u001b[34m[103]#011train-rmse:9.76124#011validation-rmse:13.48519\u001b[0m\n",
      "\u001b[34m[104]#011train-rmse:9.72059#011validation-rmse:13.45776\u001b[0m\n",
      "\u001b[34m[105]#011train-rmse:9.70219#011validation-rmse:13.44495\u001b[0m\n",
      "\u001b[34m[106]#011train-rmse:9.65692#011validation-rmse:13.45627\u001b[0m\n",
      "\u001b[34m[107]#011train-rmse:9.60755#011validation-rmse:13.43165\u001b[0m\n",
      "\u001b[34m[108]#011train-rmse:9.55101#011validation-rmse:13.38726\u001b[0m\n",
      "\u001b[34m[109]#011train-rmse:9.52527#011validation-rmse:13.38578\u001b[0m\n",
      "\u001b[34m[110]#011train-rmse:9.47170#011validation-rmse:13.33602\u001b[0m\n",
      "\u001b[34m[111]#011train-rmse:9.46348#011validation-rmse:13.34408\u001b[0m\n",
      "\u001b[34m[112]#011train-rmse:9.43584#011validation-rmse:13.33949\u001b[0m\n",
      "\u001b[34m[113]#011train-rmse:9.36332#011validation-rmse:13.30065\u001b[0m\n",
      "\u001b[34m[114]#011train-rmse:9.31783#011validation-rmse:13.27586\u001b[0m\n",
      "\u001b[34m[115]#011train-rmse:9.27452#011validation-rmse:13.25061\u001b[0m\n",
      "\u001b[34m[116]#011train-rmse:9.22133#011validation-rmse:13.22185\u001b[0m\n",
      "\u001b[34m[117]#011train-rmse:9.16702#011validation-rmse:13.21009\u001b[0m\n",
      "\u001b[34m[118]#011train-rmse:9.09805#011validation-rmse:13.16803\u001b[0m\n",
      "\u001b[34m[119]#011train-rmse:9.06974#011validation-rmse:13.16232\u001b[0m\n",
      "\u001b[34m[120]#011train-rmse:9.01098#011validation-rmse:13.14187\u001b[0m\n",
      "\u001b[34m[121]#011train-rmse:8.97348#011validation-rmse:13.11174\u001b[0m\n",
      "\u001b[34m[122]#011train-rmse:8.91793#011validation-rmse:13.09235\u001b[0m\n",
      "\u001b[34m[123]#011train-rmse:8.85667#011validation-rmse:13.04742\u001b[0m\n",
      "\u001b[34m[124]#011train-rmse:8.84920#011validation-rmse:13.04921\u001b[0m\n",
      "\u001b[34m[125]#011train-rmse:8.83431#011validation-rmse:13.04966\u001b[0m\n",
      "\u001b[34m[126]#011train-rmse:8.77025#011validation-rmse:13.01482\u001b[0m\n",
      "\u001b[34m[127]#011train-rmse:8.71925#011validation-rmse:12.97913\u001b[0m\n",
      "\u001b[34m[128]#011train-rmse:8.70431#011validation-rmse:12.97799\u001b[0m\n",
      "\u001b[34m[129]#011train-rmse:8.68051#011validation-rmse:12.97607\u001b[0m\n",
      "\u001b[34m[130]#011train-rmse:8.60559#011validation-rmse:12.94380\u001b[0m\n",
      "\u001b[34m[131]#011train-rmse:8.56730#011validation-rmse:12.91529\u001b[0m\n",
      "\u001b[34m[132]#011train-rmse:8.56329#011validation-rmse:12.93466\u001b[0m\n",
      "\u001b[34m[133]#011train-rmse:8.52710#011validation-rmse:12.92872\u001b[0m\n",
      "\u001b[34m[134]#011train-rmse:8.51259#011validation-rmse:12.91221\u001b[0m\n",
      "\u001b[34m[135]#011train-rmse:8.46574#011validation-rmse:12.88224\u001b[0m\n",
      "\u001b[34m[136]#011train-rmse:8.45127#011validation-rmse:12.86995\u001b[0m\n",
      "\u001b[34m[137]#011train-rmse:8.43129#011validation-rmse:12.86819\u001b[0m\n",
      "\u001b[34m[138]#011train-rmse:8.40650#011validation-rmse:12.85658\u001b[0m\n",
      "\u001b[34m[139]#011train-rmse:8.34309#011validation-rmse:12.82759\u001b[0m\n",
      "\u001b[34m[140]#011train-rmse:8.31763#011validation-rmse:12.79954\u001b[0m\n",
      "\u001b[34m[141]#011train-rmse:8.30227#011validation-rmse:12.80193\u001b[0m\n",
      "\u001b[34m[142]#011train-rmse:8.25815#011validation-rmse:12.78072\u001b[0m\n",
      "\u001b[34m[143]#011train-rmse:8.22490#011validation-rmse:12.76723\u001b[0m\n",
      "\u001b[34m[144]#011train-rmse:8.20464#011validation-rmse:12.76008\u001b[0m\n",
      "\u001b[34m[145]#011train-rmse:8.18458#011validation-rmse:12.76415\u001b[0m\n",
      "\u001b[34m[146]#011train-rmse:8.13710#011validation-rmse:12.73766\u001b[0m\n",
      "\u001b[34m[147]#011train-rmse:8.08020#011validation-rmse:12.71250\u001b[0m\n",
      "\u001b[34m[148]#011train-rmse:8.06021#011validation-rmse:12.71180\u001b[0m\n",
      "\u001b[34m[149]#011train-rmse:8.05437#011validation-rmse:12.70152\u001b[0m\n",
      "\n",
      "2020-07-29 16:51:11 Uploading - Uploading generated training model\n",
      "2020-07-29 16:51:11 Completed - Training job completed\n",
      "Training seconds: 86\n",
      "Billable seconds: 86\n"
     ]
    }
   ],
   "source": [
    "estimator.fit({'train':training_input_config, 'validation':validation_input_config})"
   ]
  },
  {
   "cell_type": "code",
   "execution_count": 69,
   "metadata": {},
   "outputs": [
    {
     "name": "stderr",
     "output_type": "stream",
     "text": [
      "Parameter image will be renamed to image_uri in SageMaker Python SDK v2.\n"
     ]
    },
    {
     "name": "stdout",
     "output_type": "stream",
     "text": [
      "---------------!"
     ]
    }
   ],
   "source": [
    "predictor = estimator.deploy(initial_instance_count=1, \n",
    "                             instance_type='ml.m4.xlarge', \n",
    "                             endpoint_name='xgboost-axial-load-v2')"
   ]
  }
 ],
 "metadata": {
  "kernelspec": {
   "display_name": "Python 3",
   "language": "python",
   "name": "python3"
  },
  "language_info": {
   "codemirror_mode": {
    "name": "ipython",
    "version": 3
   },
   "file_extension": ".py",
   "mimetype": "text/x-python",
   "name": "python",
   "nbconvert_exporter": "python",
   "pygments_lexer": "ipython3",
   "version": "3.7.4"
  }
 },
 "nbformat": 4,
 "nbformat_minor": 4
}
